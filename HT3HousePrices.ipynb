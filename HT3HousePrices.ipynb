{
  "cells": [
    {
      "cell_type": "markdown",
      "metadata": {
        "colab_type": "text",
        "id": "view-in-github"
      },
      "source": [
        "<a href=\"https://colab.research.google.com/github/Dahernandezsilve/HT1MD/blob/main/HT_1_An%C3%A1lisis_Exploratorio.ipynb\" target=\"_parent\"><img src=\"https://colab.research.google.com/assets/colab-badge.svg\" alt=\"Open In Colab\"/></a>"
      ]
    },
    {
      "cell_type": "markdown",
      "metadata": {
        "id": "U-huoAHYp6Zh"
      },
      "source": [
        "# Universidad del Valle de Guatemala\n",
        "18 Avenida 11-95 Guatemala      \n",
        "Departamento de Computación     \n",
        "Facultad de Ingeniería       \n",
        "Minería de Datos Sección 10         \n",
        "Fecha de entrega: 29/01/2024        \n",
        "\n",
        "Grupo 6 | Integrantes:\n",
        "- Diego Alexander Hernández Silvestre 21270\n",
        "- Linda Inés Jimenez Vides 21169\n",
        "- Daniel Armando Valdez Reyes 21240\n",
        "\n",
        "## Hoja  de trabajo 3\n",
        "## Para realizar una exploración inicial del conjunto de datos, se prodeció a realizar un resumen de la información proporcionada en el dataset del archivo \"*movies.csv*. A continuación se muestran los resultados: "
      ]
    },
    {
      "cell_type": "code",
      "execution_count": 23,
      "metadata": {},
      "outputs": [],
      "source": [
        "import pandas as pd\n",
        "from typing import *"
      ]
    },
    {
      "cell_type": "code",
      "execution_count": 9,
      "metadata": {
        "id": "AsVAGHYDp41g"
      },
      "outputs": [
        {
          "name": "stdout",
          "output_type": "stream",
          "text": [
            "<class 'pandas.core.frame.DataFrame'>\n",
            "RangeIndex: 1460 entries, 0 to 1459\n",
            "Data columns (total 81 columns):\n",
            " #   Column         Non-Null Count  Dtype  \n",
            "---  ------         --------------  -----  \n",
            " 0   Id             1460 non-null   int64  \n",
            " 1   MSSubClass     1460 non-null   int64  \n",
            " 2   MSZoning       1460 non-null   object \n",
            " 3   LotFrontage    1460 non-null   float64\n",
            " 4   LotArea        1460 non-null   int64  \n",
            " 5   Street         1460 non-null   object \n",
            " 6   Alley          1460 non-null   object \n",
            " 7   LotShape       1460 non-null   object \n",
            " 8   LandContour    1460 non-null   object \n",
            " 9   Utilities      1460 non-null   object \n",
            " 10  LotConfig      1460 non-null   object \n",
            " 11  LandSlope      1460 non-null   object \n",
            " 12  Neighborhood   1460 non-null   object \n",
            " 13  Condition1     1460 non-null   object \n",
            " 14  Condition2     1460 non-null   object \n",
            " 15  BldgType       1460 non-null   object \n",
            " 16  HouseStyle     1460 non-null   object \n",
            " 17  OverallQual    1460 non-null   int64  \n",
            " 18  OverallCond    1460 non-null   int64  \n",
            " 19  YearBuilt      1460 non-null   int64  \n",
            " 20  YearRemodAdd   1460 non-null   int64  \n",
            " 21  RoofStyle      1460 non-null   object \n",
            " 22  RoofMatl       1460 non-null   object \n",
            " 23  Exterior1st    1460 non-null   object \n",
            " 24  Exterior2nd    1460 non-null   object \n",
            " 25  MasVnrType     1460 non-null   object \n",
            " 26  MasVnrArea     1452 non-null   float64\n",
            " 27  ExterQual      1460 non-null   object \n",
            " 28  ExterCond      1460 non-null   object \n",
            " 29  Foundation     1460 non-null   object \n",
            " 30  BsmtQual       1423 non-null   object \n",
            " 31  BsmtCond       1423 non-null   object \n",
            " 32  BsmtExposure   1422 non-null   object \n",
            " 33  BsmtFinType1   1423 non-null   object \n",
            " 34  BsmtFinSF1     1460 non-null   int64  \n",
            " 35  BsmtFinType2   1422 non-null   object \n",
            " 36  BsmtFinSF2     1460 non-null   int64  \n",
            " 37  BsmtUnfSF      1460 non-null   int64  \n",
            " 38  TotalBsmtSF    1460 non-null   int64  \n",
            " 39  Heating        1460 non-null   object \n",
            " 40  HeatingQC      1460 non-null   object \n",
            " 41  CentralAir     1460 non-null   object \n",
            " 42  Electrical     1459 non-null   object \n",
            " 43  1stFlrSF       1460 non-null   int64  \n",
            " 44  2ndFlrSF       1460 non-null   int64  \n",
            " 45  LowQualFinSF   1460 non-null   int64  \n",
            " 46  GrLivArea      1460 non-null   int64  \n",
            " 47  BsmtFullBath   1460 non-null   int64  \n",
            " 48  BsmtHalfBath   1460 non-null   int64  \n",
            " 49  FullBath       1460 non-null   int64  \n",
            " 50  HalfBath       1460 non-null   int64  \n",
            " 51  BedroomAbvGr   1460 non-null   int64  \n",
            " 52  KitchenAbvGr   1460 non-null   int64  \n",
            " 53  KitchenQual    1460 non-null   object \n",
            " 54  TotRmsAbvGrd   1460 non-null   int64  \n",
            " 55  Functional     1460 non-null   object \n",
            " 56  Fireplaces     1460 non-null   int64  \n",
            " 57  FireplaceQu    1460 non-null   object \n",
            " 58  GarageType     1379 non-null   object \n",
            " 59  GarageYrBlt    1379 non-null   float64\n",
            " 60  GarageFinish   1379 non-null   object \n",
            " 61  GarageCars     1460 non-null   int64  \n",
            " 62  GarageArea     1460 non-null   int64  \n",
            " 63  GarageQual     1379 non-null   object \n",
            " 64  GarageCond     1379 non-null   object \n",
            " 65  PavedDrive     1460 non-null   object \n",
            " 66  WoodDeckSF     1460 non-null   int64  \n",
            " 67  OpenPorchSF    1460 non-null   int64  \n",
            " 68  EnclosedPorch  1460 non-null   int64  \n",
            " 69  3SsnPorch      1460 non-null   int64  \n",
            " 70  ScreenPorch    1460 non-null   int64  \n",
            " 71  PoolArea       1460 non-null   int64  \n",
            " 72  PoolQC         1460 non-null   object \n",
            " 73  Fence          1460 non-null   object \n",
            " 74  MiscFeature    1460 non-null   object \n",
            " 75  MiscVal        1460 non-null   int64  \n",
            " 76  MoSold         1460 non-null   int64  \n",
            " 77  YrSold         1460 non-null   int64  \n",
            " 78  SaleType       1460 non-null   object \n",
            " 79  SaleCondition  1460 non-null   object \n",
            " 80  SalePrice      1460 non-null   int64  \n",
            "dtypes: float64(3), int64(35), object(43)\n",
            "memory usage: 924.0+ KB\n"
          ]
        },
        {
          "data": {
            "text/plain": [
              "0       65.0\n",
              "1       80.0\n",
              "2       68.0\n",
              "3       60.0\n",
              "4       84.0\n",
              "        ... \n",
              "1455    62.0\n",
              "1456    85.0\n",
              "1457    66.0\n",
              "1458    68.0\n",
              "1459    75.0\n",
              "Name: LotFrontage, Length: 1460, dtype: float64"
            ]
          },
          "execution_count": 9,
          "metadata": {},
          "output_type": "execute_result"
        }
      ],
      "source": [
        "dataframe: pd.DataFrame = pd.read_csv(\"train.csv\",  encoding='ISO-8859-1')\n",
        "\n",
        "dataframe.columns\n",
        "# Se rellenan con 0 los na de PoolQC\n",
        "dataframe['PoolQC'] = dataframe['PoolQC'].fillna(0)\n",
        "# Se rellenan con 'None' los na 'MasVnrType'\n",
        "dataframe['MasVnrType'] = dataframe['MasVnrType'].fillna('None')\n",
        "\n",
        "dataframe['FireplaceQu'] = dataframe['MasVnrType'].fillna('NA')\n",
        "\n",
        "dataframe['Fence'] = dataframe['Fence'].fillna('NA')\n",
        "\n",
        "dataframe['MiscFeature'] = dataframe['MiscFeature'].fillna('NA')\n",
        "\n",
        "\n",
        "dataframe['LotFrontage'] = dataframe['LotFrontage'].fillna(0)\n",
        "\n",
        "dataframe['Alley'] = dataframe['Alley'].fillna('NA')\n",
        "\n",
        "\n",
        "infoSumary = dataframe.info()\n",
        "\n",
        "df = dataframe[\"LotFrontage\", \"HouseStyle\", \"OverallQual\",\"YearBuilt\", \"YearRemodAdd\",\"GarageArea\", \"GarageCars\",  \"SaleCondition\", \"SaleType\", \"SalePrice\"]\n",
        "df\n",
        "\n"
      ]
    },
    {
      "cell_type": "code",
      "execution_count": 84,
      "metadata": {},
      "outputs": [
        {
          "data": {
            "text/html": [
              "<div>\n",
              "<style scoped>\n",
              "    .dataframe tbody tr th:only-of-type {\n",
              "        vertical-align: middle;\n",
              "    }\n",
              "\n",
              "    .dataframe tbody tr th {\n",
              "        vertical-align: top;\n",
              "    }\n",
              "\n",
              "    .dataframe thead th {\n",
              "        text-align: right;\n",
              "    }\n",
              "</style>\n",
              "<table border=\"1\" class=\"dataframe\">\n",
              "  <thead>\n",
              "    <tr style=\"text-align: right;\">\n",
              "      <th></th>\n",
              "      <th>Columna</th>\n",
              "      <th>Non-Null Count</th>\n",
              "      <th>Dtype</th>\n",
              "    </tr>\n",
              "  </thead>\n",
              "  <tbody>\n",
              "    <tr>\n",
              "      <th>58</th>\n",
              "      <td>GarageType</td>\n",
              "      <td>1379</td>\n",
              "      <td>object</td>\n",
              "    </tr>\n",
              "    <tr>\n",
              "      <th>59</th>\n",
              "      <td>GarageYrBlt</td>\n",
              "      <td>1379</td>\n",
              "      <td>float64</td>\n",
              "    </tr>\n",
              "    <tr>\n",
              "      <th>60</th>\n",
              "      <td>GarageFinish</td>\n",
              "      <td>1379</td>\n",
              "      <td>object</td>\n",
              "    </tr>\n",
              "    <tr>\n",
              "      <th>63</th>\n",
              "      <td>GarageQual</td>\n",
              "      <td>1379</td>\n",
              "      <td>object</td>\n",
              "    </tr>\n",
              "    <tr>\n",
              "      <th>64</th>\n",
              "      <td>GarageCond</td>\n",
              "      <td>1379</td>\n",
              "      <td>object</td>\n",
              "    </tr>\n",
              "  </tbody>\n",
              "</table>\n",
              "</div>"
            ],
            "text/plain": [
              "         Columna  Non-Null Count    Dtype\n",
              "58    GarageType            1379   object\n",
              "59   GarageYrBlt            1379  float64\n",
              "60  GarageFinish            1379   object\n",
              "63    GarageQual            1379   object\n",
              "64    GarageCond            1379   object"
            ]
          },
          "execution_count": 84,
          "metadata": {},
          "output_type": "execute_result"
        }
      ],
      "source": [
        "\n",
        "# Extrae la información relevante del resumen\n",
        "info_data = {'Columna': [], 'Non-Null Count': [], 'Dtype': []}\n",
        "\n",
        "for col in dataframe.columns:\n",
        "    info_data['Columna'].append(col)\n",
        "    info_data['Non-Null Count'].append(dataframe[col].count())\n",
        "    info_data['Dtype'].append(dataframe[col].dtype)\n",
        "\n",
        "# Crea un nuevo DataFrame a partir de la información extraída\n",
        "info_df = pd.DataFrame(info_data)\n",
        "\n",
        "info_df[info_df['Non-Null Count']<1410]\n"
      ]
    },
    {
      "cell_type": "code",
      "execution_count": 33,
      "metadata": {},
      "outputs": [
        {
          "data": {
            "text/plain": [
              "0       208500\n",
              "1       181500\n",
              "2       223500\n",
              "3       140000\n",
              "4       250000\n",
              "         ...  \n",
              "1455    175000\n",
              "1456    210000\n",
              "1457    266500\n",
              "1458    142125\n",
              "1459    147500\n",
              "Name: SalePrice, Length: 1460, dtype: int64"
            ]
          },
          "execution_count": 33,
          "metadata": {},
          "output_type": "execute_result"
        }
      ],
      "source": [
        "dataframe['SalePrice'] =dataframe['SalePrice'].dropna()\n",
        "dataframe['SalePrice']\n"
      ]
    },
    {
      "cell_type": "markdown",
      "metadata": {},
      "source": [
        "# Ejercicio 4\n",
        "## Responda las siguientes preguntas:\n",
        "\n",
        "1. ¿Cuáles son las 10 películas que contaron con más presupuesto?"
      ]
    },
    {
      "cell_type": "code",
      "execution_count": null,
      "metadata": {},
      "outputs": [
        {
          "data": {
            "text/plain": [
              "Index(['budget', 'genres', 'homePage', 'productionCompany',\n",
              "       'productionCompanyCountry', 'productionCountry', 'revenue', 'runtime',\n",
              "       'video', 'director', 'actors', 'actorsPopularity', 'actorsCharacter',\n",
              "       'originalTitle', 'title', 'originalLanguage', 'popularity',\n",
              "       'releaseDate', 'voteAvg', 'voteCount', 'genresAmount',\n",
              "       'productionCoAmount', 'productionCountriesAmount', 'actorsAmount',\n",
              "       'castWomenAmount', 'castMenAmount'],\n",
              "      dtype='object')"
            ]
          },
          "execution_count": 11,
          "metadata": {},
          "output_type": "execute_result"
        }
      ],
      "source": [
        "dataframe.columns"
      ]
    },
    {
      "cell_type": "markdown",
      "metadata": {},
      "source": [
        "Al identificar el índice de la película con más votos se encontró que la misma es \"The Shawshank Redemption\". A continuación se muestra una descripción general de las propiedades de la película.   "
      ]
    },
    {
      "cell_type": "code",
      "execution_count": null,
      "metadata": {},
      "outputs": [
        {
          "ename": "NameError",
          "evalue": "name 'dataframe' is not defined",
          "output_type": "error",
          "traceback": [
            "\u001b[1;31m---------------------------------------------------------------------------\u001b[0m",
            "\u001b[1;31mNameError\u001b[0m                                 Traceback (most recent call last)",
            "Cell \u001b[1;32mIn[1], line 2\u001b[0m\n\u001b[0;32m      1\u001b[0m \u001b[38;5;66;03m#Inciso 4.3.\u001b[39;00m\n\u001b[1;32m----> 2\u001b[0m indexMaxVotes \u001b[38;5;241m=\u001b[39m \u001b[43mdataframe\u001b[49m[\u001b[38;5;124m'\u001b[39m\u001b[38;5;124mvotes\u001b[39m\u001b[38;5;124m'\u001b[39m]\u001b[38;5;241m.\u001b[39midxmax()\n\u001b[0;32m      3\u001b[0m movieMaxVotes \u001b[38;5;241m=\u001b[39m dataframe\u001b[38;5;241m.\u001b[39mloc[indexMaxVotes]\n\u001b[0;32m      4\u001b[0m \u001b[38;5;28mprint\u001b[39m(movieMaxVotes)\n",
            "\u001b[1;31mNameError\u001b[0m: name 'dataframe' is not defined"
          ]
        }
      ],
      "source": [
        "#Inciso 4.3.\n",
        "indexMaxVotes = dataframe['voteCount'].idxmax()\n",
        "movieMaxVotes = dataframe.loc[indexMaxVotes]\n",
        "print(movieMaxVotes)\n"
      ]
    }
  ],
  "metadata": {
    "colab": {
      "include_colab_link": true,
      "provenance": []
    },
    "kernelspec": {
      "display_name": "Python 3",
      "name": "python3"
    },
    "language_info": {
      "codemirror_mode": {
        "name": "ipython",
        "version": 3
      },
      "file_extension": ".py",
      "mimetype": "text/x-python",
      "name": "python",
      "nbconvert_exporter": "python",
      "pygments_lexer": "ipython3",
      "version": "3.11.4"
    }
  },
  "nbformat": 4,
  "nbformat_minor": 0
}
